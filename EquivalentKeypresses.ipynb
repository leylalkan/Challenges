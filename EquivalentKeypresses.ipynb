{
 "cells": [
  {
   "cell_type": "code",
   "execution_count": 9,
   "metadata": {},
   "outputs": [],
   "source": [
    "def EquivalentKeypresses(strArr):\n",
    "    for i,a in enumerate(strArr):\n",
    "        a = a.replace(',','')\n",
    "        if('-' in a):\n",
    "            index1=a.index('-')\n",
    "            index2=index1 + 1\n",
    "            index3=index1 - 1\n",
    "            strArr[i] = a[:index3] + a[index2+1:] \n",
    "        else:\n",
    "            strArr[i] = a\n",
    "    if strArr[0]==strArr[1]:\n",
    "        strArr = True\n",
    "    else:\n",
    "        strArr = False     \n",
    "    return strArr"
   ]
  },
  {
   "cell_type": "code",
   "execution_count": 11,
   "metadata": {
    "scrolled": true
   },
   "outputs": [
    {
     "name": "stdout",
     "output_type": "stream",
     "text": [
      "True\n",
      "False\n"
     ]
    }
   ],
   "source": [
    "# Use Cases:\n",
    "strArr1 = [\"a,b,c,d\", \"a,b,c,d,-B,d\"]\n",
    "strArr2 = [\"c,a,r,d\", \"c,a,-B,r,d\"]\n",
    "print(EquivalentKeypresses(strArr1),EquivalentKeypresses(strArr2), sep = '\\n')"
   ]
  }
 ],
 "metadata": {
  "kernelspec": {
   "display_name": "Python 3",
   "language": "python",
   "name": "python3"
  },
  "language_info": {
   "codemirror_mode": {
    "name": "ipython",
    "version": 3
   },
   "file_extension": ".py",
   "mimetype": "text/x-python",
   "name": "python",
   "nbconvert_exporter": "python",
   "pygments_lexer": "ipython3",
   "version": "3.8.5"
  }
 },
 "nbformat": 4,
 "nbformat_minor": 4
}
