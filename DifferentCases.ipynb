{
 "cells": [
  {
   "cell_type": "code",
   "execution_count": 3,
   "metadata": {},
   "outputs": [],
   "source": [
    "def DifferentCases(strParam):\n",
    "    strParam = ''.join([i for i in strParam.title() if i.isalpha()])\n",
    "    return strParam"
   ]
  },
  {
   "cell_type": "code",
   "execution_count": 6,
   "metadata": {},
   "outputs": [
    {
     "name": "stdout",
     "output_type": "stream",
     "text": [
      "ABCDEFG\n",
      "DanielLikesCoding\n"
     ]
    }
   ],
   "source": [
    "# Use Cases:\n",
    "strParam1 = \"a b c d-e-f%g\"\n",
    "strParam2 = \"Daniel LikeS-coding\"\n",
    "print(DifferentCases(strParam1), DifferentCases(strParam2), sep = '\\n')"
   ]
  }
 ],
 "metadata": {
  "kernelspec": {
   "display_name": "Python 3",
   "language": "python",
   "name": "python3"
  },
  "language_info": {
   "codemirror_mode": {
    "name": "ipython",
    "version": 3
   },
   "file_extension": ".py",
   "mimetype": "text/x-python",
   "name": "python",
   "nbconvert_exporter": "python",
   "pygments_lexer": "ipython3",
   "version": "3.8.5"
  }
 },
 "nbformat": 4,
 "nbformat_minor": 4
}
